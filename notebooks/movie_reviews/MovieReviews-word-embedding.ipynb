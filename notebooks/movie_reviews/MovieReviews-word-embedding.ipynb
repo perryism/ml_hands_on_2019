{
 "cells": [
  {
   "cell_type": "markdown",
   "metadata": {},
   "source": [
    "# Load data"
   ]
  },
  {
   "cell_type": "code",
   "execution_count": null,
   "metadata": {
    "scrolled": true
   },
   "outputs": [],
   "source": [
    "import pandas as pd\n",
    "from IPython.display import Image\n",
    "from IPython.core.display import HTML \n",
    "import sys\n",
    "sys.path.append(\"..\")\n",
    "from lib import is_rotten, predict, plot_confusion_matrix\n",
    "\n",
    "reviews = pd.read_csv('/tmp/imdb.csv', sep=\"\\t\", header=None)\n",
    "reviews.columns = ['review', 'like']"
   ]
  },
  {
   "cell_type": "code",
   "execution_count": null,
   "metadata": {},
   "outputs": [],
   "source": [
    "import warnings\n",
    "warnings.filterwarnings('ignore')\n",
    "\n",
    "from keras import preprocessing\n",
    "\n",
    "max_features = 10000\n",
    "maxlen = 80\n",
    "\n",
    "from sklearn.model_selection import train_test_split\n",
    "X_train, X_test, y_train, y_test = train_test_split(reviews['review'], reviews['like'], test_size=0.33, random_state=42)\n",
    "\n",
    "from keras.preprocessing.text import Tokenizer\n",
    "\n",
    "tokenizer = Tokenizer(num_words=10000)\n",
    "tokenizer.fit_on_texts(X_train)\n",
    "\n",
    "train_sequences = tokenizer.texts_to_sequences(X_train)\n",
    "test_sequences = tokenizer.texts_to_sequences(X_test)\n",
    "\n",
    "x_train = preprocessing.sequence.pad_sequences(train_sequences, maxlen=maxlen)\n",
    "x_test = preprocessing.sequence.pad_sequences(test_sequences, maxlen=maxlen)"
   ]
  },
  {
   "cell_type": "code",
   "execution_count": null,
   "metadata": {},
   "outputs": [],
   "source": [
    "import os\n",
    "\n",
    "log_dir = \"./logs\"\n",
    "\n",
    "with open(os.path.join(log_dir, 'metadata.tsv'), 'w') as f:\n",
    "    for key, value in tokenizer.word_index.items():\n",
    "        f.write(\"%s\\t%s\\n\"%(key, value))\n"
   ]
  },
  {
   "cell_type": "code",
   "execution_count": null,
   "metadata": {
    "scrolled": false
   },
   "outputs": [],
   "source": [
    "from keras.callbacks import TensorBoard\n",
    "from keras.models import Sequential\n",
    "from keras.layers import Flatten, Dense, Embedding, LSTM, Dropout\n",
    "batch_size = 16\n",
    "epochs = 10\n",
    "model = Sequential()\n",
    "# without input_length, callback will throw \"__int__ returned non-int\" error\n",
    "model.add(Embedding(max_features, batch_size, input_length=maxlen))\n",
    "model.add(LSTM(32))\n",
    "\n",
    "model.add(Dense(1, activation='sigmoid'))\n",
    "\n",
    "model.compile(optimizer='adam',\n",
    "              loss='binary_crossentropy',\n",
    "              metrics=['acc'])\n",
    "        \n",
    "#https://keras.io/callbacks/#tensorboard\n",
    "callbacks = [\n",
    "    TensorBoard(\n",
    "        log_dir=log_dir,\n",
    "        embeddings_freq=5,\n",
    "        embeddings_metadata=\"metadata.tsv\",\n",
    "        embeddings_data=x_test\n",
    "    )\n",
    "]\n",
    "\n",
    "history = model.fit(x_train, y_train,\n",
    "                    epochs=epochs,\n",
    "                    callbacks=callbacks,\n",
    "                    batch_size=batch_size,\n",
    "                    validation_split=0.2)"
   ]
  },
  {
   "cell_type": "code",
   "execution_count": null,
   "metadata": {},
   "outputs": [],
   "source": [
    "y_predict = model.predict_classes(x_test)\n",
    "from sklearn.metrics import f1_score, accuracy_score, classification_report, confusion_matrix\n",
    "print(accuracy_score(y_test, y_predict))\n",
    "print(f1_score(y_test, y_predict))\n",
    "print(confusion_matrix(y_test, y_predict))"
   ]
  },
  {
   "cell_type": "markdown",
   "metadata": {},
   "source": [
    "# Visualization\n",
    "\n",
    "<pre>\n",
    "<code>\n",
    "run ./tensorboard.sh\n",
    "</code>\n",
    "</pre>\n",
    "\n",
    "larger dataset (https://projector.tensorflow.org/)"
   ]
  }
 ],
 "metadata": {
  "kernelspec": {
   "display_name": "Python 3",
   "language": "python",
   "name": "python3"
  },
  "language_info": {
   "codemirror_mode": {
    "name": "ipython",
    "version": 3
   },
   "file_extension": ".py",
   "mimetype": "text/x-python",
   "name": "python",
   "nbconvert_exporter": "python",
   "pygments_lexer": "ipython3",
   "version": "3.7.3"
  }
 },
 "nbformat": 4,
 "nbformat_minor": 2
}
